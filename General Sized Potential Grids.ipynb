{
 "cells": [
  {
   "cell_type": "code",
   "execution_count": 15,
   "metadata": {
    "collapsed": true
   },
   "outputs": [],
   "source": [
    "%matplotlib inline\n",
    "import numpy as np\n",
    "import math\n",
    "import matplotlib.pyplot as plt\n",
    "from __future__ import division\n",
    "from operator import truediv\n",
    "import copy\n",
    "import random"
   ]
  },
  {
   "cell_type": "code",
   "execution_count": 16,
   "metadata": {
    "collapsed": false
   },
   "outputs": [],
   "source": [
    "from matplotlib.gridspec import GridSpec\n",
    "cmap = plt.cm.coolwarm  #This sets what color palatte we are using\n",
    "\n",
    "line_colors = cmap(np.linspace(0,1,20)) #this makes a list of colors to assign our lines to"
   ]
  },
  {
   "cell_type": "code",
   "execution_count": 17,
   "metadata": {
    "collapsed": true
   },
   "outputs": [],
   "source": [
    "#Adapted from http://stackoverflow.com/questions/14777066/matplotlib-discrete-colorbar\n",
    "#This function just plots an array in a discrete color plot\n",
    "def discrete_matshow(data):\n",
    "    #get discrete colormap\n",
    "    cmap = plt.cm.coolwarm\n",
    "    # set limits .5 outside true range\n",
    "    mat = plt.matshow(data,cmap=cmap,vmin = np.min(data), vmax = np.max(data))\n",
    "    #tell the colorbar to tick at integers\n",
    "    cax = plt.colorbar(mat, ticks=np.arange(np.min(data),np.max(data)+1))\n"
   ]
  },
  {
   "cell_type": "code",
   "execution_count": 18,
   "metadata": {
    "collapsed": true
   },
   "outputs": [],
   "source": [
    "#This function initializes an LxL array with a 5x5 square in the middle with a value set at 1\n",
    "def Vsquare(L):\n",
    "    V = np.zeros((L,L))\n",
    "    for i in range(int((L-5)/2),int((L-(L-5)/2))):\n",
    "        for j in range(int((L-5)/2),int((L-(L-5)/2))):\n",
    "            V[i][j] = 1\n",
    "    return V"
   ]
  },
  {
   "cell_type": "code",
   "execution_count": 39,
   "metadata": {
    "collapsed": true
   },
   "outputs": [],
   "source": [
    "V = Vsquare(15+40)"
   ]
  },
  {
   "cell_type": "code",
   "execution_count": 41,
   "metadata": {
    "collapsed": false
   },
   "outputs": [
    {
     "data": {
      "image/png": "[encoded data removed]",
      "text/plain": [
       "<matplotlib.figure.Figure at 0x95e4198>"
      ]
     },
     "metadata": {},
     "output_type": "display_data"
    }
   ],
   "source": [
    "discrete_matshow(V)\n",
    "#plt.savefig('15x15initialexample', bbox_inches='tight', dpi = 1000)"
   ]
  },
  {
   "cell_type": "code",
   "execution_count": 19,
   "metadata": {
    "collapsed": true
   },
   "outputs": [],
   "source": [
    "#This function uses the Jacobi method to calculate the basic 15x15 model in any odd size array with sidelength\n",
    "#greater than 15.\n",
    "def small_square_update(V, L):\n",
    "    dV =0\n",
    "    Vn = np.copy(V)   #it's important to copy the array, else we won't be using the Jacobi method, which isn't bad,\n",
    "                      #but we're using the jacobi method here\n",
    "    for j in range(int((L-15)/2+1),int(L-(L-15)/2 -1)):\n",
    "        if((j < (L-5)/2) or j >(L - (L-5)/2 - 1)):\n",
    "            for i in range(int((L-15)/2+1),int(L+(-(L-15)/2) -1)):\n",
    "                Vn[j][i] = (V[j][i-1] + V[j][i+1] + V[j+1][i] + V[j-1][i])/4\n",
    "                dV = dV+ np.abs(V[j][i]-Vn[j][i])\n",
    "        if(j> (L-5)/2-1 or j <(L - (L-5)/2)+1 ):\n",
    "            for i in range(int((L-15)/2 + 1),int((L-5)/2)):\n",
    "                Vn[j][i] = (V[j][i-1] + V[j][i+1] + V[j+1][i] + V[j-1][i])/4\n",
    "                dV = dV+ np.abs(V[j][i]-Vn[j][i])\n",
    "            for i in range(int((L - (L-5)/2) ),int(L-((L-15)/2)-1)):\n",
    "                Vn[j][i] = (V[j][i-1] + V[j][i+1] + V[j+1][i] + V[j-1][i])/4\n",
    "                dV = dV+ np.abs(V[j][i]-Vn[j][i])\n",
    "    return Vn, dV\n",
    "    "
   ]
  },
  {
   "cell_type": "code",
   "execution_count": 20,
   "metadata": {
    "collapsed": true
   },
   "outputs": [],
   "source": [
    "#This function calls the above function and iterates the jacobi method over a set number of times\n",
    "def laplace_calculate_sm_sq(V, L, N):\n",
    "    i=0\n",
    "    dVmin = (L**2)*10**-(5)\n",
    "    dV=100.\n",
    "    while (i<N or dV > dVmin):\n",
    "        V, dV = small_square_update(V, L)\n",
    "        i=i+1\n",
    "    return V"
   ]
  },
  {
   "cell_type": "code",
   "execution_count": 40,
   "metadata": {
    "collapsed": false,
    "scrolled": true
   },
   "outputs": [],
   "source": [
    "Vex = laplace_calculate_sm_sq(V, 15+40, 10*23)"
   ]
  },
  {
   "cell_type": "code",
   "execution_count": 44,
   "metadata": {
    "collapsed": false
   },
   "outputs": [
    {
     "data": {
      "image/png": "[encoded data removed]",
      "text/plain": [
       "<matplotlib.figure.Figure at 0x8080908>"
      ]
     },
     "metadata": {},
     "output_type": "display_data"
    }
   ],
   "source": [
    "discrete_matshow(Vex)\n",
    "#plt.savefig('15x15_in_29x29_relaxed_ex.png', bbox_inches='tight', dpi = 1000)"
   ]
  },
  {
   "cell_type": "code",
   "execution_count": 21,
   "metadata": {
    "collapsed": true
   },
   "outputs": [],
   "source": [
    "#This function is like the small square update, but instead updates it for the whole array\n",
    "#not just the 15x15 grid\n",
    "def big_square_update(V, L):\n",
    "    dV =0\n",
    "    Vn = np.copy(V)\n",
    "    for j in range(1, L-1):\n",
    "        if(j<(L-5)/2 or j>(L-(L-5)/2)-1):\n",
    "            for i in range(1, L-1):\n",
    "                Vn[j][i] = (V[j][i-1] + V[j][i+1] + V[j+1][i] + V[j-1][i])/4\n",
    "                dV = dV+ np.abs(V[j][i]-Vn[j][i])\n",
    "        if(j>(L-5)/2-1 and j<(L-(L-5)/2)):\n",
    "            for i in range(1, int((L-5)/2)):\n",
    "                Vn[j][i] = (V[j][i-1] + V[j][i+1] + V[j+1][i] + V[j-1][i])/4\n",
    "                dV = dV+ np.abs(V[j][i]-Vn[j][i])\n",
    "            for i in range(int(L-(L-5)/2),L-1):\n",
    "                Vn[j][i] = (V[j][i-1] + V[j][i+1] + V[j+1][i] + V[j-1][i])/4\n",
    "                dV = dV+ np.abs(V[j][i]-Vn[j][i])\n",
    "    return Vn, dV"
   ]
  },
  {
   "cell_type": "code",
   "execution_count": 22,
   "metadata": {
    "collapsed": true
   },
   "outputs": [],
   "source": [
    "def laplace_calculate_bg_sq(V, L, N):\n",
    "    i=0\n",
    "    dVmin = (L**2)*10**-(5)\n",
    "    dV=100.\n",
    "    while (i<N or dV > dVmin):\n",
    "        Vn, dV = big_square_update(V, L)\n",
    "        V, dV = big_square_update(Vn, L)\n",
    "        i=i+1\n",
    "    return V"
   ]
  },
  {
   "cell_type": "code",
   "execution_count": 11,
   "metadata": {
    "collapsed": true
   },
   "outputs": [],
   "source": [
    "Vbig = Vsquare(14+15)"
   ]
  },
  {
   "cell_type": "code",
   "execution_count": 12,
   "metadata": {
    "collapsed": true
   },
   "outputs": [],
   "source": [
    "Vbigex = laplace_calculate_bg_sq(Vbig, 14+15, 29*29*10)"
   ]
  },
  {
   "cell_type": "code",
   "execution_count": 39,
   "metadata": {
    "collapsed": false
   },
   "outputs": [
    {
     "data": {
      "image/png": "[encoded data removed]",
      "text/plain": [
       "<matplotlib.figure.Figure at 0x995a2e8>"
      ]
     },
     "metadata": {},
     "output_type": "display_data"
    }
   ],
   "source": [
    "discrete_matshow(Vbigex)\n",
    "#plt.savefig('29x29_relaxed_full_example.png', bbox_inches='tight', dpi = 1000)"
   ]
  },
  {
   "cell_type": "code",
   "execution_count": 23,
   "metadata": {
    "collapsed": true
   },
   "outputs": [],
   "source": [
    "#This function outputs an array that shows how our overall convergence changes with the\n",
    "#number of iterations we take our jacobi method to\n",
    "def iteration_affect(L, Nmin, Nmax):\n",
    "    dV = np.zeros((Nmax-Nmin))\n",
    "    j = 0\n",
    "    for n in np.arange(Nmin, Nmax, 1):\n",
    "        A = Vsquare(L)\n",
    "        i=0\n",
    "        while (i<n):\n",
    "            A, dA = big_square_update(A, L)\n",
    "            i=i+1\n",
    "        dV[j] = dA\n",
    "        j = j+1\n",
    "    return dV"
   ]
  },
  {
   "cell_type": "code",
   "execution_count": 51,
   "metadata": {
    "collapsed": false
   },
   "outputs": [
    {
     "name": "stdout",
     "output_type": "stream",
     "text": [
      "0\n",
      "1\n",
      "2\n",
      "3\n",
      "4\n",
      "5\n",
      "6\n",
      "7\n",
      "8\n",
      "9\n",
      "10\n"
     ]
    }
   ],
   "source": [
    "convergence_with_iterations = np.zeros((11,99))\n",
    "i = 0\n",
    "for l in np.arange(15, 22+15, 2):\n",
    "    print(i)\n",
    "    convergence_with_iterations[i][:] =iteration_affect(l, 1, 100)\n",
    "    i = i+1"
   ]
  },
  {
   "cell_type": "code",
   "execution_count": 58,
   "metadata": {
    "collapsed": false
   },
   "outputs": [
    {
     "data": {
      "image/png": "[encoded data removed]",
      "text/plain": [
       "<matplotlib.figure.Figure at 0x7cd89e8>"
      ]
     },
     "metadata": {},
     "output_type": "display_data"
    }
   ],
   "source": [
    "#used http://stackoverflow.com/questions/8342549/matplotlib-add-colorbar-to-a-sequence-of-line-plots to make most of legend\n",
    "Z = [[0,0],[0,0]]\n",
    "levels = np.arange(15,22+15,2)\n",
    "CS3 = plt.contourf(Z, levels, cmap=cmap)\n",
    "plt.ticklabel_format(axis='CS3', style='sci')\n",
    "plt.clf()\n",
    "\n",
    "\n",
    "for i in range(0,10):\n",
    "    plt.semilogy(np.arange(1,100,1), convergence_with_iterations[i],color=line_colors[i])\n",
    "\n",
    "\n",
    "plt.ylabel(r'Variance between last two steps $(\\Delta V)$')\n",
    "plt.xlabel(r'number of iterations')\n",
    "plt.colorbar(CS3)\n",
    "#plt.savefig('convergence_over_many_sizes.png', bbox_inches='tight', dpi = 1000)\n",
    "\n",
    "plt.show()"
   ]
  },
  {
   "cell_type": "code",
   "execution_count": 33,
   "metadata": {
    "collapsed": true
   },
   "outputs": [],
   "source": [
    "#This function shows how a specific point in our 15x15 grid varies as we scale up the size of the larger grid\n",
    "#The point used is [3][4]\n",
    "def size_affect(Lmin, Lmax, N):\n",
    "    Ll = np.zeros((4,int((Lmax - Lmin)/2)))\n",
    "\n",
    "    h = 0\n",
    "    j = 0\n",
    "    for l in np.arange(Lmin,Lmax,2):\n",
    "        A = Vsquare(l)\n",
    "        i=0\n",
    "        dA = 1000\n",
    "        while(dA > l**2 * 10**-5):\n",
    "            A, dA = big_square_update(A,l)\n",
    "            i = i+1\n",
    "        Ll[0][j] = A[int((l-15)/2+7)][int((l-15)/2+1)]   #This is where we decide which point to use, now it is 3, 4\n",
    "        Ll[1][j] = A[int((l-15)/2+7)][int((l-15)/2+2)]\n",
    "        Ll[2][j] = A[int((l-15)/2+7)][int((l-15)/2+3)]\n",
    "        Ll[3][j] = A[int((l-15)/2+7)][int((l-15)/2+4)]\n",
    "        j= j +1\n",
    "\n",
    "    h = h + 1\n",
    "    return Ll"
   ]
  },
  {
   "cell_type": "code",
   "execution_count": 51,
   "metadata": {
    "collapsed": false
   },
   "outputs": [],
   "source": [
    "SA = size_affect(15, 15+40, 300)"
   ]
  },
  {
   "cell_type": "code",
   "execution_count": 71,
   "metadata": {
    "collapsed": false
   },
   "outputs": [],
   "source": [
    "small = np.zeros(int((40)/2))\n",
    "small[:] = Vex[27][21]"
   ]
  },
  {
   "cell_type": "code",
   "execution_count": 87,
   "metadata": {
    "collapsed": false
   },
   "outputs": [
    {
     "name": "stdout",
     "output_type": "stream",
     "text": [
      "[ 0.75284962  0.75284962  0.75284962  0.75284962  0.75284962  0.75284962\n",
      "  0.75284962  0.75284962  0.75284962  0.75284962  0.75284962  0.75284962\n",
      "  0.75284962  0.75284962  0.75284962  0.75284962  0.75284962  0.75284962\n",
      "  0.75284962  0.75284962]\n"
     ]
    }
   ],
   "source": [
    "print(small)"
   ]
  },
  {
   "cell_type": "code",
   "execution_count": 80,
   "metadata": {
    "collapsed": false
   },
   "outputs": [
    {
     "data": {
      "image/png": "[encoded data removed]",
      "text/plain": [
       "<matplotlib.figure.Figure at 0x97f3ba8>"
      ]
     },
     "metadata": {},
     "output_type": "display_data"
    }
   ],
   "source": [
    "plt.plot(np.arange(15, 15+40, 2), SA[0]-small)\n",
    "\n",
    "plt.title('Position (7,1)')\n",
    "plt.ylabel(r'Variance from original $(\\Delta V)$')\n",
    "plt.xlabel(r'Size of sidelength')\n",
    "#plt.savefig('size_change_7_1.png', bbox_inches='tight', dpi = 1000)\n",
    "\n",
    "plt.show()"
   ]
  },
  {
   "cell_type": "code",
   "execution_count": 81,
   "metadata": {
    "collapsed": false
   },
   "outputs": [
    {
     "data": {
      "image/png": "[encoded data removed]",
      "text/plain": [
       "<matplotlib.figure.Figure at 0x8dd54a8>"
      ]
     },
     "metadata": {},
     "output_type": "display_data"
    }
   ],
   "source": [
    "small = np.zeros(int((40)/2))\n",
    "small[:] = Vex[27][22]\n",
    "\n",
    "plt.plot(np.arange(15, 15+40, 2), SA[1]-small)\n",
    "\n",
    "plt.title('Position (7,2)')\n",
    "plt.ylabel(r'Variance from original $(\\Delta V)$')\n",
    "plt.xlabel(r'Size of sidelength')\n",
    "#plt.savefig('size_change_7_2.png', bbox_inches='tight', dpi = 1000)\n",
    "\n",
    "plt.show()"
   ]
  },
  {
   "cell_type": "code",
   "execution_count": 82,
   "metadata": {
    "collapsed": false
   },
   "outputs": [
    {
     "data": {
      "image/png": "[encoded data removed]",
      "text/plain": [
       "<matplotlib.figure.Figure at 0x8db86d8>"
      ]
     },
     "metadata": {},
     "output_type": "display_data"
    }
   ],
   "source": [
    "small = np.zeros(int((40)/2))\n",
    "small[:] = Vex[27][23]\n",
    "plt.plot(np.arange(15, 15+40, 2), SA[2]-small)\n",
    "\n",
    "plt.title('Position (7,3)')\n",
    "plt.ylabel(r'Variance from original $(\\Delta V)$')\n",
    "plt.xlabel(r'Size of sidelength')\n",
    "#plt.savefig('size_change_7_3.png', bbox_inches='tight', dpi = 1000)\n",
    "\n",
    "plt.show()"
   ]
  },
  {
   "cell_type": "code",
   "execution_count": 83,
   "metadata": {
    "collapsed": false
   },
   "outputs": [
    {
     "data": {
      "image/png": "[encoded data removed]",
      "text/plain": [
       "<matplotlib.figure.Figure at 0x8d6bb00>"
      ]
     },
     "metadata": {},
     "output_type": "display_data"
    }
   ],
   "source": [
    "small = np.zeros(int((40)/2))\n",
    "small[:] = Vex[27][24]\n",
    "plt.plot(np.arange(15, 15+40, 2), SA[3]-small)\n",
    "\n",
    "plt.title('Position (7,4)')\n",
    "plt.ylabel(r'Variance from original $(\\Delta V)$')\n",
    "plt.xlabel(r'Size of sidelength')\n",
    "#plt.savefig('size_change_7_4.png', bbox_inches='tight', dpi = 1000)\n",
    "\n",
    "plt.show()"
   ]
  },
  {
   "cell_type": "code",
   "execution_count": 9,
   "metadata": {
    "collapsed": true
   },
   "outputs": [],
   "source": [
    "#This function does the same as Vsquare, and makes an LxL grid where the B.C.s are set at their usual values of \n",
    "#1 and 0, but we vary the initial conditions of the inner grid\n",
    "def ic_Vsquare(L, avg):\n",
    "    V = avg * np.ones((L,L))\n",
    "    \n",
    "    for i in range(int((L-5)/2),int((L-(L-5)/2))):\n",
    "        for j in range(int((L-5)/2),int((L-(L-5)/2))):\n",
    "            V[i][j] = 1\n",
    "    \n",
    "    for i in range(0, L):\n",
    "        if (i == 0 or i == L-1):\n",
    "            for j in range (0,L):\n",
    "                V[i][j] = 0\n",
    "        else:\n",
    "            V[i][0] = 0\n",
    "            V[i][L-1] = 0\n",
    "    return V"
   ]
  },
  {
   "cell_type": "code",
   "execution_count": 10,
   "metadata": {
    "collapsed": true
   },
   "outputs": [],
   "source": [
    "#This function generates the array of how many iterations it takes to get to our convergence goal depending on our starting value\n",
    "def initial_condition_var(L, avgmin, avgmax, dVmin):\n",
    "    N = np.zeros(int((avgmax - avgmin)/.01))\n",
    "    i = 0\n",
    "    for avg in np.arange(avgmin, avgmax, .01):\n",
    "        V = ic_Vsquare(L, avg)\n",
    "        dV = 100\n",
    "        n = 0\n",
    "        while (dV> dVmin or n<10):\n",
    "            V, dV = big_square_update(V,L)\n",
    "            n = n+1\n",
    "        N[i] = n\n",
    "        i=i+1\n",
    "    return N"
   ]
  },
  {
   "cell_type": "code",
   "execution_count": 84,
   "metadata": {
    "collapsed": true
   },
   "outputs": [],
   "source": [
    "icv = initial_condition_var(15+40, 0, 1, (15+30)**2 * 10**-5)"
   ]
  },
  {
   "cell_type": "code",
   "execution_count": 85,
   "metadata": {
    "collapsed": false
   },
   "outputs": [
    {
     "data": {
      "text/plain": [
       "100"
      ]
     },
     "execution_count": 85,
     "metadata": {},
     "output_type": "execute_result"
    }
   ],
   "source": [
    "len(icv)"
   ]
  },
  {
   "cell_type": "code",
   "execution_count": 88,
   "metadata": {
    "collapsed": false
   },
   "outputs": [
    {
     "data": {
      "image/png": "[encoded data removed]",
      "text/plain": [
       "<matplotlib.figure.Figure at 0x892f630>"
      ]
     },
     "metadata": {},
     "output_type": "display_data"
    }
   ],
   "source": [
    "plt.plot(np.arange(0,1,.01), icv,'o')\n",
    "plt.savefig('vary_initial.png', bbox_inches='tight', dpi = 1000)\n",
    "plt.show()"
   ]
  },
  {
   "cell_type": "code",
   "execution_count": 11,
   "metadata": {
    "collapsed": true
   },
   "outputs": [],
   "source": [
    "def rand_Vsquare(L):\n",
    "    V = np.random.random((L,L))\n",
    "    \n",
    "    for i in range(int((L-5)/2),int((L-(L-5)/2))):\n",
    "        for j in range(int((L-5)/2),int((L-(L-5)/2))):\n",
    "            V[i][j] = 1\n",
    "    \n",
    "    for i in range(0, L):\n",
    "        if (i == 0 or i == L-1):\n",
    "            for j in range (0,L):\n",
    "                V[i][j] = 0\n",
    "        else:\n",
    "            V[i][0] = 0\n",
    "            V[i][L-1] = 0\n",
    "    return V"
   ]
  },
  {
   "cell_type": "code",
   "execution_count": 12,
   "metadata": {
    "collapsed": true
   },
   "outputs": [],
   "source": [
    "def rand_condition_var(L, dVmin):\n",
    "    i = 0\n",
    "    DV=np.zeros(850)\n",
    "    V = rand_Vsquare(L)\n",
    "    dV = 100\n",
    "    n = 0\n",
    "    while (dV> dVmin or n<10):\n",
    "        V, dV = big_square_update(V,L)\n",
    "        n = n+1\n",
    "        DV[i] = dV\n",
    "        i = i+1\n",
    "    return n"
   ]
  },
  {
   "cell_type": "code",
   "execution_count": 93,
   "metadata": {
    "collapsed": false
   },
   "outputs": [
    {
     "data": {
      "text/plain": [
       "460"
      ]
     },
     "execution_count": 93,
     "metadata": {},
     "output_type": "execute_result"
    }
   ],
   "source": [
    "rand_condition_var(15+14, (15+14)**2*10**-5)"
   ]
  },
  {
   "cell_type": "code",
   "execution_count": null,
   "metadata": {
    "collapsed": true
   },
   "outputs": [],
   "source": []
  }
 ],
 "metadata": {
  "kernelspec": {
   "display_name": "Python 2",
   "language": "python",
   "name": "python2"
  },
  "language_info": {
   "codemirror_mode": {
    "name": "ipython",
    "version": 2
   },
   "file_extension": ".py",
   "mimetype": "text/x-python",
   "name": "python",
   "nbconvert_exporter": "python",
   "pygments_lexer": "ipython2",
   "version": "2.7.11"
  }
 },
 "nbformat": 4,
 "nbformat_minor": 1
}
